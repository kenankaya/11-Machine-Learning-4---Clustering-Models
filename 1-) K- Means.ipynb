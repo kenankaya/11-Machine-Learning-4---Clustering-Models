{
 "cells": [
  {
   "cell_type": "markdown",
   "metadata": {},
   "source": [
    "# K- Means "
   ]
  },
  {
   "cell_type": "markdown",
   "metadata": {},
   "source": [
    "* The purpose of this model is to group the observations according to their similarities to each other.\n",
    "\n",
    "\n",
    "* Clustering methods attempt to cluster observations using various distance metrics.\n",
    "\n",
    "\n",
    "* Clusters are desired to be homogeneous within themselves and heterogeneous with respect to each other.\n",
    "\n",
    "\n",
    "\n",
    "* Similarity within clusters must be maximum.\n",
    "\n",
    "\n",
    "* The similarity between different clusters should be minimal."
   ]
  },
  {
   "cell_type": "markdown",
   "metadata": {},
   "source": [
    "![alt text](data:image/png;base64,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)"
   ]
  },
  {
   "cell_type": "code",
   "execution_count": 14,
   "metadata": {},
   "outputs": [
    {
     "data": {
      "text/html": [
       "<div>\n",
       "<style scoped>\n",
       "    .dataframe tbody tr th:only-of-type {\n",
       "        vertical-align: middle;\n",
       "    }\n",
       "\n",
       "    .dataframe tbody tr th {\n",
       "        vertical-align: top;\n",
       "    }\n",
       "\n",
       "    .dataframe thead th {\n",
       "        text-align: right;\n",
       "    }\n",
       "</style>\n",
       "<table border=\"1\" class=\"dataframe\">\n",
       "  <thead>\n",
       "    <tr style=\"text-align: right;\">\n",
       "      <th></th>\n",
       "      <th>Unnamed: 0</th>\n",
       "      <th>Murder</th>\n",
       "      <th>Assault</th>\n",
       "      <th>UrbanPop</th>\n",
       "      <th>Rape</th>\n",
       "    </tr>\n",
       "  </thead>\n",
       "  <tbody>\n",
       "    <tr>\n",
       "      <th>0</th>\n",
       "      <td>Alabama</td>\n",
       "      <td>13.2</td>\n",
       "      <td>236</td>\n",
       "      <td>58</td>\n",
       "      <td>21.2</td>\n",
       "    </tr>\n",
       "    <tr>\n",
       "      <th>1</th>\n",
       "      <td>Alaska</td>\n",
       "      <td>10.0</td>\n",
       "      <td>263</td>\n",
       "      <td>48</td>\n",
       "      <td>44.5</td>\n",
       "    </tr>\n",
       "    <tr>\n",
       "      <th>2</th>\n",
       "      <td>Arizona</td>\n",
       "      <td>8.1</td>\n",
       "      <td>294</td>\n",
       "      <td>80</td>\n",
       "      <td>31.0</td>\n",
       "    </tr>\n",
       "    <tr>\n",
       "      <th>3</th>\n",
       "      <td>Arkansas</td>\n",
       "      <td>8.8</td>\n",
       "      <td>190</td>\n",
       "      <td>50</td>\n",
       "      <td>19.5</td>\n",
       "    </tr>\n",
       "    <tr>\n",
       "      <th>4</th>\n",
       "      <td>California</td>\n",
       "      <td>9.0</td>\n",
       "      <td>276</td>\n",
       "      <td>91</td>\n",
       "      <td>40.6</td>\n",
       "    </tr>\n",
       "  </tbody>\n",
       "</table>\n",
       "</div>"
      ],
      "text/plain": [
       "   Unnamed: 0  Murder  Assault  UrbanPop  Rape\n",
       "0     Alabama    13.2      236        58  21.2\n",
       "1      Alaska    10.0      263        48  44.5\n",
       "2     Arizona     8.1      294        80  31.0\n",
       "3    Arkansas     8.8      190        50  19.5\n",
       "4  California     9.0      276        91  40.6"
      ]
     },
     "execution_count": 14,
     "metadata": {},
     "output_type": "execute_result"
    }
   ],
   "source": [
    "import pandas as pd\n",
    "df = pd.read_csv(\"USArrests.csv\").copy()\n",
    "df.head()"
   ]
  },
  {
   "cell_type": "code",
   "execution_count": 15,
   "metadata": {},
   "outputs": [
    {
     "data": {
      "text/plain": [
       "Index(['Alabama', 'Alaska', 'Arizona', 'Arkansas', 'California', 'Colorado',\n",
       "       'Connecticut', 'Delaware', 'Florida', 'Georgia', 'Hawaii', 'Idaho',\n",
       "       'Illinois', 'Indiana', 'Iowa', 'Kansas', 'Kentucky', 'Louisiana',\n",
       "       'Maine', 'Maryland', 'Massachusetts', 'Michigan', 'Minnesota',\n",
       "       'Mississippi', 'Missouri', 'Montana', 'Nebraska', 'Nevada',\n",
       "       'New Hampshire', 'New Jersey', 'New Mexico', 'New York',\n",
       "       'North Carolina', 'North Dakota', 'Ohio', 'Oklahoma', 'Oregon',\n",
       "       'Pennsylvania', 'Rhode Island', 'South Carolina', 'South Dakota',\n",
       "       'Tennessee', 'Texas', 'Utah', 'Vermont', 'Virginia', 'Washington',\n",
       "       'West Virginia', 'Wisconsin', 'Wyoming'],\n",
       "      dtype='object', name='Unnamed: 0')"
      ]
     },
     "execution_count": 15,
     "metadata": {},
     "output_type": "execute_result"
    }
   ],
   "source": [
    " df.index=df.iloc[:,0]\n",
    "df.index  "
   ]
  },
  {
   "cell_type": "code",
   "execution_count": 16,
   "metadata": {},
   "outputs": [
    {
     "data": {
      "text/html": [
       "<div>\n",
       "<style scoped>\n",
       "    .dataframe tbody tr th:only-of-type {\n",
       "        vertical-align: middle;\n",
       "    }\n",
       "\n",
       "    .dataframe tbody tr th {\n",
       "        vertical-align: top;\n",
       "    }\n",
       "\n",
       "    .dataframe thead th {\n",
       "        text-align: right;\n",
       "    }\n",
       "</style>\n",
       "<table border=\"1\" class=\"dataframe\">\n",
       "  <thead>\n",
       "    <tr style=\"text-align: right;\">\n",
       "      <th></th>\n",
       "      <th>Unnamed: 0</th>\n",
       "      <th>Murder</th>\n",
       "      <th>Assault</th>\n",
       "      <th>UrbanPop</th>\n",
       "      <th>Rape</th>\n",
       "    </tr>\n",
       "    <tr>\n",
       "      <th>Unnamed: 0</th>\n",
       "      <th></th>\n",
       "      <th></th>\n",
       "      <th></th>\n",
       "      <th></th>\n",
       "      <th></th>\n",
       "    </tr>\n",
       "  </thead>\n",
       "  <tbody>\n",
       "    <tr>\n",
       "      <th>Alabama</th>\n",
       "      <td>Alabama</td>\n",
       "      <td>13.2</td>\n",
       "      <td>236</td>\n",
       "      <td>58</td>\n",
       "      <td>21.2</td>\n",
       "    </tr>\n",
       "    <tr>\n",
       "      <th>Alaska</th>\n",
       "      <td>Alaska</td>\n",
       "      <td>10.0</td>\n",
       "      <td>263</td>\n",
       "      <td>48</td>\n",
       "      <td>44.5</td>\n",
       "    </tr>\n",
       "    <tr>\n",
       "      <th>Arizona</th>\n",
       "      <td>Arizona</td>\n",
       "      <td>8.1</td>\n",
       "      <td>294</td>\n",
       "      <td>80</td>\n",
       "      <td>31.0</td>\n",
       "    </tr>\n",
       "    <tr>\n",
       "      <th>Arkansas</th>\n",
       "      <td>Arkansas</td>\n",
       "      <td>8.8</td>\n",
       "      <td>190</td>\n",
       "      <td>50</td>\n",
       "      <td>19.5</td>\n",
       "    </tr>\n",
       "    <tr>\n",
       "      <th>California</th>\n",
       "      <td>California</td>\n",
       "      <td>9.0</td>\n",
       "      <td>276</td>\n",
       "      <td>91</td>\n",
       "      <td>40.6</td>\n",
       "    </tr>\n",
       "  </tbody>\n",
       "</table>\n",
       "</div>"
      ],
      "text/plain": [
       "            Unnamed: 0  Murder  Assault  UrbanPop  Rape\n",
       "Unnamed: 0                                             \n",
       "Alabama        Alabama    13.2      236        58  21.2\n",
       "Alaska          Alaska    10.0      263        48  44.5\n",
       "Arizona        Arizona     8.1      294        80  31.0\n",
       "Arkansas      Arkansas     8.8      190        50  19.5\n",
       "California  California     9.0      276        91  40.6"
      ]
     },
     "execution_count": 16,
     "metadata": {},
     "output_type": "execute_result"
    }
   ],
   "source": [
    "df.head()"
   ]
  },
  {
   "cell_type": "code",
   "execution_count": 17,
   "metadata": {},
   "outputs": [
    {
     "data": {
      "text/html": [
       "<div>\n",
       "<style scoped>\n",
       "    .dataframe tbody tr th:only-of-type {\n",
       "        vertical-align: middle;\n",
       "    }\n",
       "\n",
       "    .dataframe tbody tr th {\n",
       "        vertical-align: top;\n",
       "    }\n",
       "\n",
       "    .dataframe thead th {\n",
       "        text-align: right;\n",
       "    }\n",
       "</style>\n",
       "<table border=\"1\" class=\"dataframe\">\n",
       "  <thead>\n",
       "    <tr style=\"text-align: right;\">\n",
       "      <th></th>\n",
       "      <th>Murder</th>\n",
       "      <th>Assault</th>\n",
       "      <th>UrbanPop</th>\n",
       "      <th>Rape</th>\n",
       "    </tr>\n",
       "    <tr>\n",
       "      <th>Unnamed: 0</th>\n",
       "      <th></th>\n",
       "      <th></th>\n",
       "      <th></th>\n",
       "      <th></th>\n",
       "    </tr>\n",
       "  </thead>\n",
       "  <tbody>\n",
       "    <tr>\n",
       "      <th>Alabama</th>\n",
       "      <td>13.2</td>\n",
       "      <td>236</td>\n",
       "      <td>58</td>\n",
       "      <td>21.2</td>\n",
       "    </tr>\n",
       "    <tr>\n",
       "      <th>Alaska</th>\n",
       "      <td>10.0</td>\n",
       "      <td>263</td>\n",
       "      <td>48</td>\n",
       "      <td>44.5</td>\n",
       "    </tr>\n",
       "    <tr>\n",
       "      <th>Arizona</th>\n",
       "      <td>8.1</td>\n",
       "      <td>294</td>\n",
       "      <td>80</td>\n",
       "      <td>31.0</td>\n",
       "    </tr>\n",
       "    <tr>\n",
       "      <th>Arkansas</th>\n",
       "      <td>8.8</td>\n",
       "      <td>190</td>\n",
       "      <td>50</td>\n",
       "      <td>19.5</td>\n",
       "    </tr>\n",
       "    <tr>\n",
       "      <th>California</th>\n",
       "      <td>9.0</td>\n",
       "      <td>276</td>\n",
       "      <td>91</td>\n",
       "      <td>40.6</td>\n",
       "    </tr>\n",
       "  </tbody>\n",
       "</table>\n",
       "</div>"
      ],
      "text/plain": [
       "            Murder  Assault  UrbanPop  Rape\n",
       "Unnamed: 0                                 \n",
       "Alabama       13.2      236        58  21.2\n",
       "Alaska        10.0      263        48  44.5\n",
       "Arizona        8.1      294        80  31.0\n",
       "Arkansas       8.8      190        50  19.5\n",
       "California     9.0      276        91  40.6"
      ]
     },
     "execution_count": 17,
     "metadata": {},
     "output_type": "execute_result"
    }
   ],
   "source": [
    "df = df.iloc[:,1:5]\n",
    "df.head()"
   ]
  },
  {
   "cell_type": "code",
   "execution_count": 20,
   "metadata": {
    "scrolled": true
   },
   "outputs": [
    {
     "data": {
      "text/plain": [
       "Murder      0\n",
       "Assault     0\n",
       "UrbanPop    0\n",
       "Rape        0\n",
       "dtype: int64"
      ]
     },
     "execution_count": 20,
     "metadata": {},
     "output_type": "execute_result"
    }
   ],
   "source": [
    "df.isnull().sum()"
   ]
  },
  {
   "cell_type": "code",
   "execution_count": 21,
   "metadata": {},
   "outputs": [
    {
     "name": "stdout",
     "output_type": "stream",
     "text": [
      "<class 'pandas.core.frame.DataFrame'>\n",
      "Index: 50 entries, Alabama to Wyoming\n",
      "Data columns (total 4 columns):\n",
      " #   Column    Non-Null Count  Dtype  \n",
      "---  ------    --------------  -----  \n",
      " 0   Murder    50 non-null     float64\n",
      " 1   Assault   50 non-null     int64  \n",
      " 2   UrbanPop  50 non-null     int64  \n",
      " 3   Rape      50 non-null     float64\n",
      "dtypes: float64(2), int64(2)\n",
      "memory usage: 2.0+ KB\n"
     ]
    }
   ],
   "source": [
    "df.info()"
   ]
  },
  {
   "cell_type": "code",
   "execution_count": 22,
   "metadata": {},
   "outputs": [
    {
     "data": {
      "text/html": [
       "<div>\n",
       "<style scoped>\n",
       "    .dataframe tbody tr th:only-of-type {\n",
       "        vertical-align: middle;\n",
       "    }\n",
       "\n",
       "    .dataframe tbody tr th {\n",
       "        vertical-align: top;\n",
       "    }\n",
       "\n",
       "    .dataframe thead th {\n",
       "        text-align: right;\n",
       "    }\n",
       "</style>\n",
       "<table border=\"1\" class=\"dataframe\">\n",
       "  <thead>\n",
       "    <tr style=\"text-align: right;\">\n",
       "      <th></th>\n",
       "      <th>count</th>\n",
       "      <th>mean</th>\n",
       "      <th>std</th>\n",
       "      <th>min</th>\n",
       "      <th>25%</th>\n",
       "      <th>50%</th>\n",
       "      <th>75%</th>\n",
       "      <th>max</th>\n",
       "    </tr>\n",
       "  </thead>\n",
       "  <tbody>\n",
       "    <tr>\n",
       "      <th>Murder</th>\n",
       "      <td>50.0</td>\n",
       "      <td>7.788</td>\n",
       "      <td>4.355510</td>\n",
       "      <td>0.8</td>\n",
       "      <td>4.075</td>\n",
       "      <td>7.25</td>\n",
       "      <td>11.250</td>\n",
       "      <td>17.4</td>\n",
       "    </tr>\n",
       "    <tr>\n",
       "      <th>Assault</th>\n",
       "      <td>50.0</td>\n",
       "      <td>170.760</td>\n",
       "      <td>83.337661</td>\n",
       "      <td>45.0</td>\n",
       "      <td>109.000</td>\n",
       "      <td>159.00</td>\n",
       "      <td>249.000</td>\n",
       "      <td>337.0</td>\n",
       "    </tr>\n",
       "    <tr>\n",
       "      <th>UrbanPop</th>\n",
       "      <td>50.0</td>\n",
       "      <td>65.540</td>\n",
       "      <td>14.474763</td>\n",
       "      <td>32.0</td>\n",
       "      <td>54.500</td>\n",
       "      <td>66.00</td>\n",
       "      <td>77.750</td>\n",
       "      <td>91.0</td>\n",
       "    </tr>\n",
       "    <tr>\n",
       "      <th>Rape</th>\n",
       "      <td>50.0</td>\n",
       "      <td>21.232</td>\n",
       "      <td>9.366385</td>\n",
       "      <td>7.3</td>\n",
       "      <td>15.075</td>\n",
       "      <td>20.10</td>\n",
       "      <td>26.175</td>\n",
       "      <td>46.0</td>\n",
       "    </tr>\n",
       "  </tbody>\n",
       "</table>\n",
       "</div>"
      ],
      "text/plain": [
       "          count     mean        std   min      25%     50%      75%    max\n",
       "Murder     50.0    7.788   4.355510   0.8    4.075    7.25   11.250   17.4\n",
       "Assault    50.0  170.760  83.337661  45.0  109.000  159.00  249.000  337.0\n",
       "UrbanPop   50.0   65.540  14.474763  32.0   54.500   66.00   77.750   91.0\n",
       "Rape       50.0   21.232   9.366385   7.3   15.075   20.10   26.175   46.0"
      ]
     },
     "execution_count": 22,
     "metadata": {},
     "output_type": "execute_result"
    }
   ],
   "source": [
    "df.describe().T"
   ]
  },
  {
   "cell_type": "code",
   "execution_count": 23,
   "metadata": {},
   "outputs": [
    {
     "data": {
      "image/png": "[encoded data removed]",
      "text/plain": [
       "<Figure size 720x720 with 4 Axes>"
      ]
     },
     "metadata": {
      "needs_background": "light"
     },
     "output_type": "display_data"
    }
   ],
   "source": [
    "df.hist(figsize = (10,10));"
   ]
  },
  {
   "cell_type": "markdown",
   "metadata": {},
   "source": [
    "## 1-) Model"
   ]
  },
  {
   "cell_type": "code",
   "execution_count": 24,
   "metadata": {},
   "outputs": [
    {
     "data": {
      "text/plain": [
       "KMeans(n_clusters=2)"
      ]
     },
     "execution_count": 24,
     "metadata": {},
     "output_type": "execute_result"
    }
   ],
   "source": [
    "from sklearn.cluster import KMeans\n",
    "kmeans = KMeans(n_clusters = 2)\n",
    "kmeans"
   ]
  },
  {
   "cell_type": "code",
   "execution_count": 25,
   "metadata": {},
   "outputs": [],
   "source": [
    "k_fit = kmeans.fit(df)"
   ]
  },
  {
   "cell_type": "code",
   "execution_count": 26,
   "metadata": {},
   "outputs": [
    {
     "data": {
      "text/plain": [
       "2"
      ]
     },
     "execution_count": 26,
     "metadata": {},
     "output_type": "execute_result"
    }
   ],
   "source": [
    "k_fit.n_clusters# that gives number of cluster"
   ]
  },
  {
   "cell_type": "code",
   "execution_count": 37,
   "metadata": {},
   "outputs": [
    {
     "data": {
      "text/plain": [
       "array([[  4.84137931, 109.75862069,  64.03448276,  16.24827586],\n",
       "       [ 11.85714286, 255.        ,  67.61904762,  28.11428571]])"
      ]
     },
     "execution_count": 37,
     "metadata": {},
     "output_type": "execute_result"
    }
   ],
   "source": [
    "center_of_clusters=k_fit.cluster_centers_ #shows the most recently determined cluster center points\n",
    "center_of_clusters"
   ]
  },
  {
   "cell_type": "code",
   "execution_count": 35,
   "metadata": {},
   "outputs": [
    {
     "data": {
      "text/plain": [
       "array([1, 1, 1, 1, 1, 1, 0, 1, 1, 1, 0, 0, 1, 0, 0, 0, 0, 1, 0, 1, 0, 1,\n",
       "       0, 1, 0, 0, 0, 1, 0, 0, 1, 1, 1, 0, 0, 0, 0, 0, 0, 1, 0, 1, 1, 0,\n",
       "       0, 0, 0, 0, 0, 0])"
      ]
     },
     "execution_count": 35,
     "metadata": {},
     "output_type": "execute_result"
    }
   ],
   "source": [
    "clusters=k_fit.labels_#shows which observation value belongs to which cluster\n",
    "clusters"
   ]
  },
  {
   "cell_type": "markdown",
   "metadata": {},
   "source": [
    "## 2-)Visualization"
   ]
  },
  {
   "cell_type": "code",
   "execution_count": 31,
   "metadata": {},
   "outputs": [
    {
     "data": {
      "text/plain": [
       "Unnamed: 0\n",
       "Alabama           13.2\n",
       "Alaska            10.0\n",
       "Arizona            8.1\n",
       "Arkansas           8.8\n",
       "California         9.0\n",
       "Colorado           7.9\n",
       "Connecticut        3.3\n",
       "Delaware           5.9\n",
       "Florida           15.4\n",
       "Georgia           17.4\n",
       "Hawaii             5.3\n",
       "Idaho              2.6\n",
       "Illinois          10.4\n",
       "Indiana            7.2\n",
       "Iowa               2.2\n",
       "Kansas             6.0\n",
       "Kentucky           9.7\n",
       "Louisiana         15.4\n",
       "Maine              2.1\n",
       "Maryland          11.3\n",
       "Massachusetts      4.4\n",
       "Michigan          12.1\n",
       "Minnesota          2.7\n",
       "Mississippi       16.1\n",
       "Missouri           9.0\n",
       "Montana            6.0\n",
       "Nebraska           4.3\n",
       "Nevada            12.2\n",
       "New Hampshire      2.1\n",
       "New Jersey         7.4\n",
       "New Mexico        11.4\n",
       "New York          11.1\n",
       "North Carolina    13.0\n",
       "North Dakota       0.8\n",
       "Ohio               7.3\n",
       "Oklahoma           6.6\n",
       "Oregon             4.9\n",
       "Pennsylvania       6.3\n",
       "Rhode Island       3.4\n",
       "South Carolina    14.4\n",
       "South Dakota       3.8\n",
       "Tennessee         13.2\n",
       "Texas             12.7\n",
       "Utah               3.2\n",
       "Vermont            2.2\n",
       "Virginia           8.5\n",
       "Washington         4.0\n",
       "West Virginia      5.7\n",
       "Wisconsin          2.6\n",
       "Wyoming            6.8\n",
       "Name: Murder, dtype: float64"
      ]
     },
     "execution_count": 31,
     "metadata": {},
     "output_type": "execute_result"
    }
   ],
   "source": [
    "df.iloc[:,0]"
   ]
  },
  {
   "cell_type": "code",
   "execution_count": 32,
   "metadata": {},
   "outputs": [
    {
     "data": {
      "text/plain": [
       "Unnamed: 0\n",
       "Alabama           236\n",
       "Alaska            263\n",
       "Arizona           294\n",
       "Arkansas          190\n",
       "California        276\n",
       "Colorado          204\n",
       "Connecticut       110\n",
       "Delaware          238\n",
       "Florida           335\n",
       "Georgia           211\n",
       "Hawaii             46\n",
       "Idaho             120\n",
       "Illinois          249\n",
       "Indiana           113\n",
       "Iowa               56\n",
       "Kansas            115\n",
       "Kentucky          109\n",
       "Louisiana         249\n",
       "Maine              83\n",
       "Maryland          300\n",
       "Massachusetts     149\n",
       "Michigan          255\n",
       "Minnesota          72\n",
       "Mississippi       259\n",
       "Missouri          178\n",
       "Montana           109\n",
       "Nebraska          102\n",
       "Nevada            252\n",
       "New Hampshire      57\n",
       "New Jersey        159\n",
       "New Mexico        285\n",
       "New York          254\n",
       "North Carolina    337\n",
       "North Dakota       45\n",
       "Ohio              120\n",
       "Oklahoma          151\n",
       "Oregon            159\n",
       "Pennsylvania      106\n",
       "Rhode Island      174\n",
       "South Carolina    279\n",
       "South Dakota       86\n",
       "Tennessee         188\n",
       "Texas             201\n",
       "Utah              120\n",
       "Vermont            48\n",
       "Virginia          156\n",
       "Washington        145\n",
       "West Virginia      81\n",
       "Wisconsin          53\n",
       "Wyoming           161\n",
       "Name: Assault, dtype: int64"
      ]
     },
     "execution_count": 32,
     "metadata": {},
     "output_type": "execute_result"
    }
   ],
   "source": [
    "df.iloc[:,1]"
   ]
  },
  {
   "cell_type": "code",
   "execution_count": 33,
   "metadata": {},
   "outputs": [],
   "source": [
    "import seaborn as sns\n",
    "import matplotlib.pyplot as plt"
   ]
  },
  {
   "cell_type": "code",
   "execution_count": 44,
   "metadata": {},
   "outputs": [
    {
     "data": {
      "image/png": "[encoded data removed]",
      "text/plain": [
       "<Figure size 432x288 with 1 Axes>"
      ]
     },
     "metadata": {
      "needs_background": "light"
     },
     "output_type": "display_data"
    }
   ],
   "source": [
    "plt.scatter(df.iloc[:,0], df.iloc[:,1], c = clusters, s = 50, cmap = \"viridis\")\n",
    "plt.scatter(center_of_clusters[:,0], center_of_clusters[:,1], c = \"black\", s = 200, alpha = 0.5);"
   ]
  },
  {
   "cell_type": "markdown",
   "metadata": {},
   "source": [
    "##  3-)Clusters of Observvation"
   ]
  },
  {
   "cell_type": "code",
   "execution_count": 47,
   "metadata": {},
   "outputs": [
    {
     "data": {
      "text/html": [
       "<div>\n",
       "<style scoped>\n",
       "    .dataframe tbody tr th:only-of-type {\n",
       "        vertical-align: middle;\n",
       "    }\n",
       "\n",
       "    .dataframe tbody tr th {\n",
       "        vertical-align: top;\n",
       "    }\n",
       "\n",
       "    .dataframe thead th {\n",
       "        text-align: right;\n",
       "    }\n",
       "</style>\n",
       "<table border=\"1\" class=\"dataframe\">\n",
       "  <thead>\n",
       "    <tr style=\"text-align: right;\">\n",
       "      <th></th>\n",
       "      <th>Province</th>\n",
       "      <th>Clusters</th>\n",
       "    </tr>\n",
       "  </thead>\n",
       "  <tbody>\n",
       "    <tr>\n",
       "      <th>0</th>\n",
       "      <td>Alabama</td>\n",
       "      <td>1</td>\n",
       "    </tr>\n",
       "    <tr>\n",
       "      <th>1</th>\n",
       "      <td>Alaska</td>\n",
       "      <td>1</td>\n",
       "    </tr>\n",
       "    <tr>\n",
       "      <th>2</th>\n",
       "      <td>Arizona</td>\n",
       "      <td>1</td>\n",
       "    </tr>\n",
       "    <tr>\n",
       "      <th>3</th>\n",
       "      <td>Arkansas</td>\n",
       "      <td>1</td>\n",
       "    </tr>\n",
       "    <tr>\n",
       "      <th>4</th>\n",
       "      <td>California</td>\n",
       "      <td>1</td>\n",
       "    </tr>\n",
       "    <tr>\n",
       "      <th>5</th>\n",
       "      <td>Colorado</td>\n",
       "      <td>1</td>\n",
       "    </tr>\n",
       "    <tr>\n",
       "      <th>6</th>\n",
       "      <td>Connecticut</td>\n",
       "      <td>0</td>\n",
       "    </tr>\n",
       "    <tr>\n",
       "      <th>7</th>\n",
       "      <td>Delaware</td>\n",
       "      <td>1</td>\n",
       "    </tr>\n",
       "    <tr>\n",
       "      <th>8</th>\n",
       "      <td>Florida</td>\n",
       "      <td>1</td>\n",
       "    </tr>\n",
       "    <tr>\n",
       "      <th>9</th>\n",
       "      <td>Georgia</td>\n",
       "      <td>1</td>\n",
       "    </tr>\n",
       "  </tbody>\n",
       "</table>\n",
       "</div>"
      ],
      "text/plain": [
       "      Province  Clusters\n",
       "0      Alabama         1\n",
       "1       Alaska         1\n",
       "2      Arizona         1\n",
       "3     Arkansas         1\n",
       "4   California         1\n",
       "5     Colorado         1\n",
       "6  Connecticut         0\n",
       "7     Delaware         1\n",
       "8      Florida         1\n",
       "9      Georgia         1"
      ]
     },
     "execution_count": 47,
     "metadata": {},
     "output_type": "execute_result"
    }
   ],
   "source": [
    "pd.DataFrame({\"Province\":df.index, \"Clusters\":clusters })[0:10]"
   ]
  },
  {
   "cell_type": "code",
   "execution_count": 48,
   "metadata": {},
   "outputs": [],
   "source": [
    "df[\"Clusters\"]=clusters"
   ]
  },
  {
   "cell_type": "code",
   "execution_count": 50,
   "metadata": {},
   "outputs": [
    {
     "data": {
      "text/html": [
       "<div>\n",
       "<style scoped>\n",
       "    .dataframe tbody tr th:only-of-type {\n",
       "        vertical-align: middle;\n",
       "    }\n",
       "\n",
       "    .dataframe tbody tr th {\n",
       "        vertical-align: top;\n",
       "    }\n",
       "\n",
       "    .dataframe thead th {\n",
       "        text-align: right;\n",
       "    }\n",
       "</style>\n",
       "<table border=\"1\" class=\"dataframe\">\n",
       "  <thead>\n",
       "    <tr style=\"text-align: right;\">\n",
       "      <th></th>\n",
       "      <th>Murder</th>\n",
       "      <th>Assault</th>\n",
       "      <th>UrbanPop</th>\n",
       "      <th>Rape</th>\n",
       "      <th>Clusters</th>\n",
       "    </tr>\n",
       "    <tr>\n",
       "      <th>Unnamed: 0</th>\n",
       "      <th></th>\n",
       "      <th></th>\n",
       "      <th></th>\n",
       "      <th></th>\n",
       "      <th></th>\n",
       "    </tr>\n",
       "  </thead>\n",
       "  <tbody>\n",
       "    <tr>\n",
       "      <th>Alabama</th>\n",
       "      <td>13.2</td>\n",
       "      <td>236</td>\n",
       "      <td>58</td>\n",
       "      <td>21.2</td>\n",
       "      <td>1</td>\n",
       "    </tr>\n",
       "    <tr>\n",
       "      <th>Alaska</th>\n",
       "      <td>10.0</td>\n",
       "      <td>263</td>\n",
       "      <td>48</td>\n",
       "      <td>44.5</td>\n",
       "      <td>1</td>\n",
       "    </tr>\n",
       "    <tr>\n",
       "      <th>Arizona</th>\n",
       "      <td>8.1</td>\n",
       "      <td>294</td>\n",
       "      <td>80</td>\n",
       "      <td>31.0</td>\n",
       "      <td>1</td>\n",
       "    </tr>\n",
       "    <tr>\n",
       "      <th>Arkansas</th>\n",
       "      <td>8.8</td>\n",
       "      <td>190</td>\n",
       "      <td>50</td>\n",
       "      <td>19.5</td>\n",
       "      <td>1</td>\n",
       "    </tr>\n",
       "    <tr>\n",
       "      <th>California</th>\n",
       "      <td>9.0</td>\n",
       "      <td>276</td>\n",
       "      <td>91</td>\n",
       "      <td>40.6</td>\n",
       "      <td>1</td>\n",
       "    </tr>\n",
       "    <tr>\n",
       "      <th>Colorado</th>\n",
       "      <td>7.9</td>\n",
       "      <td>204</td>\n",
       "      <td>78</td>\n",
       "      <td>38.7</td>\n",
       "      <td>1</td>\n",
       "    </tr>\n",
       "    <tr>\n",
       "      <th>Connecticut</th>\n",
       "      <td>3.3</td>\n",
       "      <td>110</td>\n",
       "      <td>77</td>\n",
       "      <td>11.1</td>\n",
       "      <td>0</td>\n",
       "    </tr>\n",
       "    <tr>\n",
       "      <th>Delaware</th>\n",
       "      <td>5.9</td>\n",
       "      <td>238</td>\n",
       "      <td>72</td>\n",
       "      <td>15.8</td>\n",
       "      <td>1</td>\n",
       "    </tr>\n",
       "    <tr>\n",
       "      <th>Florida</th>\n",
       "      <td>15.4</td>\n",
       "      <td>335</td>\n",
       "      <td>80</td>\n",
       "      <td>31.9</td>\n",
       "      <td>1</td>\n",
       "    </tr>\n",
       "    <tr>\n",
       "      <th>Georgia</th>\n",
       "      <td>17.4</td>\n",
       "      <td>211</td>\n",
       "      <td>60</td>\n",
       "      <td>25.8</td>\n",
       "      <td>1</td>\n",
       "    </tr>\n",
       "  </tbody>\n",
       "</table>\n",
       "</div>"
      ],
      "text/plain": [
       "             Murder  Assault  UrbanPop  Rape  Clusters\n",
       "Unnamed: 0                                            \n",
       "Alabama        13.2      236        58  21.2         1\n",
       "Alaska         10.0      263        48  44.5         1\n",
       "Arizona         8.1      294        80  31.0         1\n",
       "Arkansas        8.8      190        50  19.5         1\n",
       "California      9.0      276        91  40.6         1\n",
       "Colorado        7.9      204        78  38.7         1\n",
       "Connecticut     3.3      110        77  11.1         0\n",
       "Delaware        5.9      238        72  15.8         1\n",
       "Florida        15.4      335        80  31.9         1\n",
       "Georgia        17.4      211        60  25.8         1"
      ]
     },
     "execution_count": 50,
     "metadata": {},
     "output_type": "execute_result"
    }
   ],
   "source": [
    "df.head(10)"
   ]
  },
  {
   "cell_type": "markdown",
   "metadata": {},
   "source": [
    "## 4-)Determining the Optimum Cluster Number"
   ]
  },
  {
   "cell_type": "code",
   "execution_count": 53,
   "metadata": {},
   "outputs": [],
   "source": [
    "from warnings import filterwarnings\n",
    "filterwarnings('ignore')"
   ]
  },
  {
   "cell_type": "code",
   "execution_count": 54,
   "metadata": {},
   "outputs": [],
   "source": [
    "#!pip install yellowbrick"
   ]
  },
  {
   "cell_type": "code",
   "execution_count": 55,
   "metadata": {},
   "outputs": [],
   "source": [
    "from yellowbrick.cluster import KElbowVisualizer"
   ]
  },
  {
   "cell_type": "code",
   "execution_count": 58,
   "metadata": {},
   "outputs": [
    {
     "data": {
      "image/png": "[encoded data removed]",
      "text/plain": [
       "<Figure size 576x396 with 2 Axes>"
      ]
     },
     "metadata": {},
     "output_type": "display_data"
    }
   ],
   "source": [
    "kmeans = KMeans()\n",
    "visualizer = KElbowVisualizer(kmeans, k=(2,50))\n",
    "# k=(2,50) means that  model is created from 2 cluster up to 50 cluster . \n",
    "visualizer.fit(df)\n",
    "visualizer.poof();"
   ]
  },
  {
   "cell_type": "markdown",
   "metadata": {},
   "source": [
    "* Graphs says that the optimum number of cluster is  9  \n",
    "\n",
    "\n",
    "* But if we divide it into 9 clusters, it would be a disaster for the work\n",
    "\n",
    "\n",
    "* Business knowledge comes to the fore here. You should know your business well, and these graphics should support you at your decision.\n",
    "\n",
    "\n",
    "* We will divide it into 4 clusters in place of  9 clusters"
   ]
  },
  {
   "cell_type": "code",
   "execution_count": 59,
   "metadata": {},
   "outputs": [],
   "source": [
    "kmeans1 = KMeans(n_clusters = 4)\n",
    "k_fit1 = kmeans1.fit(df)\n",
    "clusters1 = k_fit1.labels_"
   ]
  },
  {
   "cell_type": "code",
   "execution_count": 60,
   "metadata": {},
   "outputs": [
    {
     "data": {
      "text/html": [
       "<div>\n",
       "<style scoped>\n",
       "    .dataframe tbody tr th:only-of-type {\n",
       "        vertical-align: middle;\n",
       "    }\n",
       "\n",
       "    .dataframe tbody tr th {\n",
       "        vertical-align: top;\n",
       "    }\n",
       "\n",
       "    .dataframe thead th {\n",
       "        text-align: right;\n",
       "    }\n",
       "</style>\n",
       "<table border=\"1\" class=\"dataframe\">\n",
       "  <thead>\n",
       "    <tr style=\"text-align: right;\">\n",
       "      <th></th>\n",
       "      <th>Province</th>\n",
       "      <th>Clusters</th>\n",
       "    </tr>\n",
       "  </thead>\n",
       "  <tbody>\n",
       "    <tr>\n",
       "      <th>0</th>\n",
       "      <td>Alabama</td>\n",
       "      <td>1</td>\n",
       "    </tr>\n",
       "    <tr>\n",
       "      <th>1</th>\n",
       "      <td>Alaska</td>\n",
       "      <td>1</td>\n",
       "    </tr>\n",
       "    <tr>\n",
       "      <th>2</th>\n",
       "      <td>Arizona</td>\n",
       "      <td>1</td>\n",
       "    </tr>\n",
       "    <tr>\n",
       "      <th>3</th>\n",
       "      <td>Arkansas</td>\n",
       "      <td>2</td>\n",
       "    </tr>\n",
       "    <tr>\n",
       "      <th>4</th>\n",
       "      <td>California</td>\n",
       "      <td>1</td>\n",
       "    </tr>\n",
       "    <tr>\n",
       "      <th>5</th>\n",
       "      <td>Colorado</td>\n",
       "      <td>2</td>\n",
       "    </tr>\n",
       "    <tr>\n",
       "      <th>6</th>\n",
       "      <td>Connecticut</td>\n",
       "      <td>0</td>\n",
       "    </tr>\n",
       "    <tr>\n",
       "      <th>7</th>\n",
       "      <td>Delaware</td>\n",
       "      <td>1</td>\n",
       "    </tr>\n",
       "    <tr>\n",
       "      <th>8</th>\n",
       "      <td>Florida</td>\n",
       "      <td>1</td>\n",
       "    </tr>\n",
       "    <tr>\n",
       "      <th>9</th>\n",
       "      <td>Georgia</td>\n",
       "      <td>2</td>\n",
       "    </tr>\n",
       "  </tbody>\n",
       "</table>\n",
       "</div>"
      ],
      "text/plain": [
       "      Province  Clusters\n",
       "0      Alabama         1\n",
       "1       Alaska         1\n",
       "2      Arizona         1\n",
       "3     Arkansas         2\n",
       "4   California         1\n",
       "5     Colorado         2\n",
       "6  Connecticut         0\n",
       "7     Delaware         1\n",
       "8      Florida         1\n",
       "9      Georgia         2"
      ]
     },
     "execution_count": 60,
     "metadata": {},
     "output_type": "execute_result"
    }
   ],
   "source": [
    "pd.DataFrame({\"Province\":df.index, \"Clusters\":clusters1 })[0:10]"
   ]
  },
  {
   "cell_type": "code",
   "execution_count": 61,
   "metadata": {},
   "outputs": [],
   "source": [
    "df[\"Clusters\"]=clusters1"
   ]
  },
  {
   "cell_type": "code",
   "execution_count": 63,
   "metadata": {},
   "outputs": [
    {
     "data": {
      "text/html": [
       "<div>\n",
       "<style scoped>\n",
       "    .dataframe tbody tr th:only-of-type {\n",
       "        vertical-align: middle;\n",
       "    }\n",
       "\n",
       "    .dataframe tbody tr th {\n",
       "        vertical-align: top;\n",
       "    }\n",
       "\n",
       "    .dataframe thead th {\n",
       "        text-align: right;\n",
       "    }\n",
       "</style>\n",
       "<table border=\"1\" class=\"dataframe\">\n",
       "  <thead>\n",
       "    <tr style=\"text-align: right;\">\n",
       "      <th></th>\n",
       "      <th>Murder</th>\n",
       "      <th>Assault</th>\n",
       "      <th>UrbanPop</th>\n",
       "      <th>Rape</th>\n",
       "      <th>Clusters</th>\n",
       "    </tr>\n",
       "    <tr>\n",
       "      <th>Unnamed: 0</th>\n",
       "      <th></th>\n",
       "      <th></th>\n",
       "      <th></th>\n",
       "      <th></th>\n",
       "      <th></th>\n",
       "    </tr>\n",
       "  </thead>\n",
       "  <tbody>\n",
       "    <tr>\n",
       "      <th>Alabama</th>\n",
       "      <td>13.2</td>\n",
       "      <td>236</td>\n",
       "      <td>58</td>\n",
       "      <td>21.2</td>\n",
       "      <td>1</td>\n",
       "    </tr>\n",
       "    <tr>\n",
       "      <th>Alaska</th>\n",
       "      <td>10.0</td>\n",
       "      <td>263</td>\n",
       "      <td>48</td>\n",
       "      <td>44.5</td>\n",
       "      <td>1</td>\n",
       "    </tr>\n",
       "    <tr>\n",
       "      <th>Arizona</th>\n",
       "      <td>8.1</td>\n",
       "      <td>294</td>\n",
       "      <td>80</td>\n",
       "      <td>31.0</td>\n",
       "      <td>1</td>\n",
       "    </tr>\n",
       "    <tr>\n",
       "      <th>Arkansas</th>\n",
       "      <td>8.8</td>\n",
       "      <td>190</td>\n",
       "      <td>50</td>\n",
       "      <td>19.5</td>\n",
       "      <td>2</td>\n",
       "    </tr>\n",
       "    <tr>\n",
       "      <th>California</th>\n",
       "      <td>9.0</td>\n",
       "      <td>276</td>\n",
       "      <td>91</td>\n",
       "      <td>40.6</td>\n",
       "      <td>1</td>\n",
       "    </tr>\n",
       "    <tr>\n",
       "      <th>Colorado</th>\n",
       "      <td>7.9</td>\n",
       "      <td>204</td>\n",
       "      <td>78</td>\n",
       "      <td>38.7</td>\n",
       "      <td>2</td>\n",
       "    </tr>\n",
       "    <tr>\n",
       "      <th>Connecticut</th>\n",
       "      <td>3.3</td>\n",
       "      <td>110</td>\n",
       "      <td>77</td>\n",
       "      <td>11.1</td>\n",
       "      <td>0</td>\n",
       "    </tr>\n",
       "    <tr>\n",
       "      <th>Delaware</th>\n",
       "      <td>5.9</td>\n",
       "      <td>238</td>\n",
       "      <td>72</td>\n",
       "      <td>15.8</td>\n",
       "      <td>1</td>\n",
       "    </tr>\n",
       "    <tr>\n",
       "      <th>Florida</th>\n",
       "      <td>15.4</td>\n",
       "      <td>335</td>\n",
       "      <td>80</td>\n",
       "      <td>31.9</td>\n",
       "      <td>1</td>\n",
       "    </tr>\n",
       "    <tr>\n",
       "      <th>Georgia</th>\n",
       "      <td>17.4</td>\n",
       "      <td>211</td>\n",
       "      <td>60</td>\n",
       "      <td>25.8</td>\n",
       "      <td>2</td>\n",
       "    </tr>\n",
       "  </tbody>\n",
       "</table>\n",
       "</div>"
      ],
      "text/plain": [
       "             Murder  Assault  UrbanPop  Rape  Clusters\n",
       "Unnamed: 0                                            \n",
       "Alabama        13.2      236        58  21.2         1\n",
       "Alaska         10.0      263        48  44.5         1\n",
       "Arizona         8.1      294        80  31.0         1\n",
       "Arkansas        8.8      190        50  19.5         2\n",
       "California      9.0      276        91  40.6         1\n",
       "Colorado        7.9      204        78  38.7         2\n",
       "Connecticut     3.3      110        77  11.1         0\n",
       "Delaware        5.9      238        72  15.8         1\n",
       "Florida        15.4      335        80  31.9         1\n",
       "Georgia        17.4      211        60  25.8         2"
      ]
     },
     "execution_count": 63,
     "metadata": {},
     "output_type": "execute_result"
    }
   ],
   "source": [
    "df.head(10)"
   ]
  },
  {
   "cell_type": "code",
   "execution_count": null,
   "metadata": {},
   "outputs": [],
   "source": []
  }
 ],
 "metadata": {
  "kernelspec": {
   "display_name": "Python 3",
   "language": "python",
   "name": "python3"
  },
  "language_info": {
   "codemirror_mode": {
    "name": "ipython",
    "version": 3
   },
   "file_extension": ".py",
   "mimetype": "text/x-python",
   "name": "python",
   "nbconvert_exporter": "python",
   "pygments_lexer": "ipython3",
   "version": "3.7.4"
  }
 },
 "nbformat": 4,
 "nbformat_minor": 4
}
